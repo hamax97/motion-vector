{
 "cells": [
  {
   "cell_type": "code",
   "execution_count": 1,
   "metadata": {},
   "outputs": [],
   "source": [
    "import pandas as pd\n",
    "import matplotlib.pyplot as plt\n",
    "import numpy as np"
   ]
  },
  {
   "cell_type": "code",
   "execution_count": 2,
   "metadata": {},
   "outputs": [
    {
     "data": {
      "text/html": [
       "<div>\n",
       "<style scoped>\n",
       "    .dataframe tbody tr th:only-of-type {\n",
       "        vertical-align: middle;\n",
       "    }\n",
       "\n",
       "    .dataframe tbody tr th {\n",
       "        vertical-align: top;\n",
       "    }\n",
       "\n",
       "    .dataframe thead th {\n",
       "        text-align: right;\n",
       "    }\n",
       "</style>\n",
       "<table border=\"1\" class=\"dataframe\">\n",
       "  <thead>\n",
       "    <tr style=\"text-align: right;\">\n",
       "      <th></th>\n",
       "      <th>Combinación</th>\n",
       "      <th>A</th>\n",
       "      <th>B</th>\n",
       "      <th>C</th>\n",
       "      <th>D</th>\n",
       "      <th>Unnamed: 5</th>\n",
       "    </tr>\n",
       "  </thead>\n",
       "  <tbody>\n",
       "    <tr>\n",
       "      <th>0</th>\n",
       "      <td>Tiempo serial (s)</td>\n",
       "      <td>127.132</td>\n",
       "      <td>127.026</td>\n",
       "      <td>128.242</td>\n",
       "      <td>127.088</td>\n",
       "      <td>NaN</td>\n",
       "    </tr>\n",
       "    <tr>\n",
       "      <th>1</th>\n",
       "      <td>Tiempo openmp (s)</td>\n",
       "      <td>11.185</td>\n",
       "      <td>11.176</td>\n",
       "      <td>11.151</td>\n",
       "      <td>11.173</td>\n",
       "      <td>24 threads</td>\n",
       "    </tr>\n",
       "    <tr>\n",
       "      <th>2</th>\n",
       "      <td>Tiempo MPI (s)</td>\n",
       "      <td>6.409</td>\n",
       "      <td>5.518</td>\n",
       "      <td>5.605</td>\n",
       "      <td>5.411</td>\n",
       "      <td>2 nodos, 12 procesos en cada nodo</td>\n",
       "    </tr>\n",
       "    <tr>\n",
       "      <th>3</th>\n",
       "      <td>Tiempo MPI-OpenMP</td>\n",
       "      <td>6.361</td>\n",
       "      <td>6.250</td>\n",
       "      <td>6.260</td>\n",
       "      <td>6.250</td>\n",
       "      <td>2 nodos, 2 procesos 48 threads</td>\n",
       "    </tr>\n",
       "    <tr>\n",
       "      <th>4</th>\n",
       "      <td>NaN</td>\n",
       "      <td>NaN</td>\n",
       "      <td>NaN</td>\n",
       "      <td>NaN</td>\n",
       "      <td>NaN</td>\n",
       "      <td>NaN</td>\n",
       "    </tr>\n",
       "  </tbody>\n",
       "</table>\n",
       "</div>"
      ],
      "text/plain": [
       "         Combinación        A        B        C        D  \\\n",
       "0  Tiempo serial (s)  127.132  127.026  128.242  127.088   \n",
       "1  Tiempo openmp (s)   11.185   11.176   11.151   11.173   \n",
       "2     Tiempo MPI (s)    6.409    5.518    5.605    5.411   \n",
       "3  Tiempo MPI-OpenMP    6.361    6.250    6.260    6.250   \n",
       "4                NaN      NaN      NaN      NaN      NaN   \n",
       "\n",
       "                          Unnamed: 5  \n",
       "0                                NaN  \n",
       "1                         24 threads  \n",
       "2  2 nodos, 12 procesos en cada nodo  \n",
       "3     2 nodos, 2 procesos 48 threads  \n",
       "4                                NaN  "
      ]
     },
     "execution_count": 2,
     "metadata": {},
     "output_type": "execute_result"
    }
   ],
   "source": [
    "data = pd.read_excel('out_1.xlsx')\n",
    "data.head()"
   ]
  },
  {
   "cell_type": "code",
   "execution_count": 3,
   "metadata": {},
   "outputs": [],
   "source": [
    "tiempo_serial = data.iloc[0][1:5].mean()\n",
    "tiempo_openmp = data.iloc[1][1:5].mean()\n",
    "tiempo_mpi = data.iloc[2][1:5].mean()\n",
    "tiempo_mpi_openmp = data.iloc[3][1:5].mean()"
   ]
  },
  {
   "cell_type": "code",
   "execution_count": 4,
   "metadata": {},
   "outputs": [],
   "source": [
    "speedup = []\n",
    "\n",
    "speedup.append(tiempo_serial / tiempo_serial)\n",
    "speedup.append(tiempo_serial / tiempo_openmp)\n",
    "speedup.append(tiempo_serial / tiempo_mpi)\n",
    "speedup.append(tiempo_serial / tiempo_mpi_openmp)"
   ]
  },
  {
   "cell_type": "code",
   "execution_count": 5,
   "metadata": {},
   "outputs": [],
   "source": [
    "combinacion = []\n",
    "combinacion.append('serial')\n",
    "combinacion.append('openmp')\n",
    "combinacion.append('mpi')\n",
    "combinacion.append('mpi-openmp')"
   ]
  },
  {
   "cell_type": "code",
   "execution_count": 6,
   "metadata": {},
   "outputs": [],
   "source": [
    "x = np.arange(len(combinacion))"
   ]
  },
  {
   "cell_type": "code",
   "execution_count": 7,
   "metadata": {},
   "outputs": [
    {
     "data": {
      "image/png": "[encoded data removed]",
      "text/plain": [
       "<matplotlib.figure.Figure at 0x1ce4e9f6be0>"
      ]
     },
     "metadata": {},
     "output_type": "display_data"
    }
   ],
   "source": [
    "plt.scatter(x, speedup)\n",
    "plt.plot(x, speedup)\n",
    "plt.xticks(x, combinacion)\n",
    "plt.title('Speedup vs Combinacion')\n",
    "plt.xlabel('Combinacion')\n",
    "plt.ylabel('Speedup')\n",
    "plt.show()"
   ]
  },
  {
   "cell_type": "code",
   "execution_count": null,
   "metadata": {},
   "outputs": [],
   "source": []
  }
 ],
 "metadata": {
  "kernelspec": {
   "display_name": "Python 3",
   "language": "python",
   "name": "python3"
  },
  "language_info": {
   "codemirror_mode": {
    "name": "ipython",
    "version": 3
   },
   "file_extension": ".py",
   "mimetype": "text/x-python",
   "name": "python",
   "nbconvert_exporter": "python",
   "pygments_lexer": "ipython3",
   "version": "3.6.4"
  }
 },
 "nbformat": 4,
 "nbformat_minor": 2
}
